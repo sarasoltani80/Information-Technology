{
 "cells": [
  {
   "cell_type": "code",
   "execution_count": 57,
   "id": "92b04b1a",
   "metadata": {},
   "outputs": [],
   "source": [
    "\n",
    "from surprise import SVD\n",
    "from surprise import Dataset\n",
    "from surprise import KNNBasic\n",
    "from surprise.model_selection import cross_validate\n",
    "from surprise.model_selection import train_test_split\n",
    "from surprise import accuracy"
   ]
  },
  {
   "cell_type": "code",
   "execution_count": 58,
   "id": "d1afb180",
   "metadata": {},
   "outputs": [],
   "source": [
    "# Load the movielens-100k dataset\n",
    "data = Dataset.load_builtin('ml-100k')"
   ]
  },
  {
   "cell_type": "code",
   "execution_count": 59,
   "id": "9161e915",
   "metadata": {},
   "outputs": [],
   "source": [
    "# Use the famous SVD and KNN algorithmS.\n",
    "algo1 = SVD()\n",
    "algo2 = KNNBasic()"
   ]
  },
  {
   "cell_type": "code",
   "execution_count": 60,
   "id": "c5eda956",
   "metadata": {},
   "outputs": [
    {
     "name": "stdout",
     "output_type": "stream",
     "text": [
      "Evaluating RMSE, MAE of algorithm SVD on 4 split(s).\n",
      "\n",
      "                  Fold 1  Fold 2  Fold 3  Fold 4  Mean    Std     \n",
      "RMSE (testset)    0.9352  0.9365  0.9501  0.9367  0.9396  0.0061  \n",
      "MAE (testset)     0.7378  0.7376  0.7495  0.7381  0.7407  0.0051  \n",
      "Fit time          7.85    9.28    8.78    8.05    8.49    0.57    \n",
      "Test time         0.44    0.16    0.44    0.44    0.37    0.12    \n"
     ]
    },
    {
     "data": {
      "text/plain": [
       "{'test_rmse': array([0.9351788 , 0.93646375, 0.95007338, 0.93673893]),\n",
       " 'test_mae': array([0.73775966, 0.73759398, 0.74949593, 0.73809047]),\n",
       " 'fit_time': (7.8450233936309814,\n",
       "  9.27713418006897,\n",
       "  8.782747030258179,\n",
       "  8.0520601272583),\n",
       " 'test_time': (0.4435844421386719,\n",
       "  0.16179943084716797,\n",
       "  0.44072461128234863,\n",
       "  0.4371914863586426)}"
      ]
     },
     "execution_count": 60,
     "metadata": {},
     "output_type": "execute_result"
    }
   ],
   "source": [
    "# Run 4-fold cross-validation by SVD and print results.\n",
    "cross_validate(algo1, data, measures=['RMSE', 'MAE'], cv=4, verbose=True)"
   ]
  },
  {
   "cell_type": "code",
   "execution_count": 61,
   "id": "209e9816",
   "metadata": {},
   "outputs": [
    {
     "name": "stdout",
     "output_type": "stream",
     "text": [
      "Computing the msd similarity matrix...\n",
      "Done computing similarity matrix.\n",
      "Computing the msd similarity matrix...\n",
      "Done computing similarity matrix.\n",
      "Computing the msd similarity matrix...\n",
      "Done computing similarity matrix.\n",
      "Computing the msd similarity matrix...\n",
      "Done computing similarity matrix.\n",
      "Evaluating RMSE, MAE of algorithm KNNBasic on 4 split(s).\n",
      "\n",
      "                  Fold 1  Fold 2  Fold 3  Fold 4  Mean    Std     \n",
      "RMSE (testset)    0.9822  0.9723  0.9908  0.9851  0.9826  0.0067  \n",
      "MAE (testset)     0.7761  0.7653  0.7843  0.7782  0.7760  0.0069  \n",
      "Fit time          0.92    0.94    0.93    0.93    0.93    0.01    \n",
      "Test time         7.89    6.50    7.92    6.40    7.18    0.73    \n"
     ]
    },
    {
     "data": {
      "text/plain": [
       "{'test_rmse': array([0.98223671, 0.97234149, 0.99075399, 0.98510119]),\n",
       " 'test_mae': array([0.77613452, 0.76531   , 0.78432272, 0.77824794]),\n",
       " 'fit_time': (0.9236903190612793,\n",
       "  0.9416186809539795,\n",
       "  0.9322071075439453,\n",
       "  0.9335513114929199),\n",
       " 'test_time': (7.889278173446655,\n",
       "  6.497680187225342,\n",
       "  7.920766353607178,\n",
       "  6.398364782333374)}"
      ]
     },
     "execution_count": 61,
     "metadata": {},
     "output_type": "execute_result"
    }
   ],
   "source": [
    "# Run 4-fold cross-validation by KNN and print results.\n",
    "cross_validate(algo2, data, measures=['RMSE', 'MAE'], cv=4, verbose=True)"
   ]
  },
  {
   "cell_type": "code",
   "execution_count": 62,
   "id": "8856f068",
   "metadata": {},
   "outputs": [],
   "source": [
    "\n",
    "trainset, testset = train_test_split(data, test_size=.25)"
   ]
  },
  {
   "cell_type": "code",
   "execution_count": 63,
   "id": "15e80aef",
   "metadata": {},
   "outputs": [
    {
     "name": "stdout",
     "output_type": "stream",
     "text": [
      "RMSE: 0.9370\n"
     ]
    },
    {
     "data": {
      "text/plain": [
       "0.9369506790241343"
      ]
     },
     "execution_count": 63,
     "metadata": {},
     "output_type": "execute_result"
    }
   ],
   "source": [
    "algo1.fit(trainset)\n",
    "predictions = algo1.test(testset)\n",
    "accuracy.rmse(predictions)"
   ]
  },
  {
   "cell_type": "code",
   "execution_count": 64,
   "id": "cab293f8",
   "metadata": {},
   "outputs": [
    {
     "name": "stdout",
     "output_type": "stream",
     "text": [
      "Computing the msd similarity matrix...\n",
      "Done computing similarity matrix.\n",
      "RMSE: 0.9783\n"
     ]
    },
    {
     "data": {
      "text/plain": [
       "0.9783141154888112"
      ]
     },
     "execution_count": 64,
     "metadata": {},
     "output_type": "execute_result"
    }
   ],
   "source": [
    "algo2.fit(trainset)\n",
    "predictions = algo2.test(testset)\n",
    "accuracy.rmse(predictions)"
   ]
  },
  {
   "cell_type": "code",
   "execution_count": 65,
   "id": "cd231372",
   "metadata": {},
   "outputs": [
    {
     "name": "stdout",
     "output_type": "stream",
     "text": [
      "user: 196        item: 302        r_ui = 4.00   est = 3.70   {'was_impossible': False}\n"
     ]
    }
   ],
   "source": [
    "uid = str(196)  # raw user id (as in the ratings file). They are **strings**!\n",
    "iid = str(302)  # raw item id (as in the ratings file). They are **strings**!\n",
    "\n",
    "# get a prediction for specific users and items.\n",
    "pred = algo1.predict(uid, iid, r_ui=4, verbose=True)"
   ]
  },
  {
   "cell_type": "code",
   "execution_count": 66,
   "id": "4de443c1",
   "metadata": {},
   "outputs": [
    {
     "name": "stdout",
     "output_type": "stream",
     "text": [
      "user: 196        item: 302        r_ui = 4.00   est = 4.21   {'actual_k': 40, 'was_impossible': False}\n"
     ]
    }
   ],
   "source": [
    "uid = str(196)  # raw user id (as in the ratings file). They are **strings**!\n",
    "iid = str(302)  # raw item id (as in the ratings file). They are **strings**!\n",
    "\n",
    "# get a prediction for specific users and items.\n",
    "pred = algo2.predict(uid, iid, r_ui=4, verbose=True)"
   ]
  },
  {
   "cell_type": "code",
   "execution_count": null,
   "id": "5d77d891",
   "metadata": {},
   "outputs": [],
   "source": []
  }
 ],
 "metadata": {
  "kernelspec": {
   "display_name": "Python 3",
   "language": "python",
   "name": "python3"
  },
  "language_info": {
   "codemirror_mode": {
    "name": "ipython",
    "version": 3
   },
   "file_extension": ".py",
   "mimetype": "text/x-python",
   "name": "python",
   "nbconvert_exporter": "python",
   "pygments_lexer": "ipython3",
   "version": "3.8.8"
  }
 },
 "nbformat": 4,
 "nbformat_minor": 5
}
